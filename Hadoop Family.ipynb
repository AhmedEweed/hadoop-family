{
 "cells": [
  {
   "cell_type": "markdown",
   "metadata": {},
   "source": [
    "# The Hadoop Family"
   ]
  },
  {
   "cell_type": "markdown",
   "metadata": {},
   "source": [
    "## Table Of Contents:  <a class=\"top\" id=\"TOP\"></a>\n",
    "* [Data Collection](#dc)  \n",
    "    * [Sqoop](#sq)\n",
    "    * [Flume](#fl)\n",
    "    * [Kafka](#ka)\n",
    "* [Data Storage](#ds)\n",
    "* [Data Processing](#dp)\n",
    "* [Data Query](#dq)\n",
    "* [Data Management](#dm)\n",
    "* [Data Security](#dse)"
   ]
  },
  {
   "cell_type": "markdown",
   "metadata": {},
   "source": [
    "## (1)- Data Ingestion (Collection):  from/to HDFS <a class=\"top\" id=\"dc\"></a>"
   ]
  },
  {
   "cell_type": "markdown",
   "metadata": {},
   "source": [
    "#### - Sqoop -> Sq(l Had)oop: relational db to hadoop and vice versa    <a class=\"top\" id=\"sq\"></a>\n",
    "               \n",
    "     sqoop is a collection of related tools  \n",
    "     to use a tool, specify its name and its arguments like so:\n",
    "   <code>sqoop  tool-name   tool-arguments</code>\n",
    "        \n",
    "      Connectors: \n",
    "        - built-in (jdbc)\n",
    "        - customized"
   ]
  },
  {
   "cell_type": "markdown",
   "metadata": {},
   "source": [
    "#### - Flume ->  collecting, aggregating and moving large log files and streaming data flows <a class=\"top\" id=\"fl\"></a>\n",
    "\n",
    "        it is an agent for log file transfer\n",
    "        it consists of three components:\n",
    "\n",
    "        - Source : \n",
    "                   receives events from external source (web server for example) or from other flume sinks  \n",
    "            \n",
    "        - Channel: \n",
    "                   a medium to store events from Source until a Sink consumes them\n",
    "                   there are two kinds of Channels:\n",
    "                   \n",
    "                       -File Channel: \n",
    "                                      The flow using file channel will resume processing events where it left off.\n",
    "                                      If the agent can’t be restarted on the same hardware, \n",
    "                                      then there is an option to migrate the database to another hardware\n",
    "                                      and setup a new Flume agent that can resume processing the events\n",
    "                                      saved in the db.\n",
    "                                      \n",
    "                       -Memory Channel: \n",
    "                                      In memory channel, events can’t be persisted and available\n",
    "                                      as long as agent process running or live. \n",
    "                                      Recovery of events in memory channel is impossible \n",
    "                                      but performance is very fast and excellent compare to other channel.\n",
    "        \n",
    "        - Sink: \n",
    "                removes the events from Channel and place them into external repositories like HDFS  \n",
    "                or forwards them to the Flume Source of the next Flume Agent"
   ]
  },
  {
   "cell_type": "markdown",
   "metadata": {},
   "source": [
    "#### - Kafka -> handling real time data feeds <a class=\"top\" id=\"ka\"></a>"
   ]
  },
  {
   "cell_type": "markdown",
   "metadata": {},
   "source": [
    "## (2)- Data Storage: Into HDFS <a class=\"top\" id=\"ds\"></a>"
   ]
  },
  {
   "cell_type": "markdown",
   "metadata": {},
   "source": [
    "#### - HBase -> column-oriented"
   ]
  },
  {
   "cell_type": "markdown",
   "metadata": {},
   "source": [
    "## (3)- Data Processing:  <a class=\"top\" id=\"dp\"></a>\n",
    "\n",
    "- MapReduce ->\n",
    "\n",
    "\n",
    "- Spark -> sql, streaming, MLib, GraphX\n",
    "\n",
    "\n",
    "- Pig -> "
   ]
  },
  {
   "cell_type": "markdown",
   "metadata": {},
   "source": [
    "## (4)- Data Querying:  <a class=\"top\" id=\"dq\"></a>\n",
    "\n",
    "- Hive\n",
    "\n",
    "\n",
    "- Imbala"
   ]
  },
  {
   "cell_type": "markdown",
   "metadata": {},
   "source": [
    "## (5)- Data Management: <a class=\"top\" id=\"dm\"></a>\n",
    "\n",
    "- Ambari"
   ]
  },
  {
   "cell_type": "markdown",
   "metadata": {},
   "source": [
    "## (6)- Data Security: <a class=\"top\" id=\"dse\"></a>\n",
    "\n",
    "- Ranger"
   ]
  },
  {
   "cell_type": "markdown",
   "metadata": {},
   "source": [
    "# Notes"
   ]
  },
  {
   "cell_type": "markdown",
   "metadata": {},
   "source": [
    "- HDFS \n",
    "       --> Copy data into HDFS\n",
    "       --> Copy data from HDFS\n",
    "       --> Copy or paste data in HDFS\n",
    "\n",
    "<!DOCTYPE html>\n",
    "<html>\n",
    "<body>\n",
    "<table style = \"border-collapse:collapse;\n",
    "                width:100%;\n",
    "                border:2px solid red;\">\n",
    "    <caption>Permissions:</caption>\n",
    "    <tr style = \"background-color:green;\n",
    "                 color:white;\">\n",
    "        <th style = \"background-color:yellow;\n",
    "                     color:black; \n",
    "                     border:2px solid red;\n",
    "                     text-align:left;\">\n",
    "            IsDirectory\n",
    "        </th>\n",
    "        <th colspan = \"3\" style = \"background-color:yellow;\n",
    "                                   color:black;\n",
    "                                   border:2px solid red;\n",
    "                                   text-align:left;\">\n",
    "            Owner\n",
    "        </th>\n",
    "        <th colspan = \"3\" style = \"background-color:yellow;\n",
    "                                   color:black;\n",
    "                                   border:2px solid red;\n",
    "                                   text-align:left;\">\n",
    "            Group\n",
    "        </th>\n",
    "        <th colspan = \"3\" style = \"background-color:yellow;\n",
    "                                   color:black;\n",
    "                                   border:2px solid red;\n",
    "                                   text-align:left;\">\n",
    "            Other\n",
    "        </th>\n",
    "    </tr>\n",
    "    <tr style = \"background-color\">\n",
    "        <td style = \" height:40px;\n",
    "                     background-color:yellow;\n",
    "                     color:black;\n",
    "                     border:2px solid red;\">directory or file</td>\n",
    "        <th style = \"background-color:yellow;\n",
    "                     color:black;\n",
    "                     border:2px solid red;\n",
    "                     text-align:left;\">\n",
    "            Read\n",
    "        </th>\n",
    "        <th style = \"background-color:yellow;\n",
    "                     color:black;\n",
    "                     border:2px solid red;\n",
    "                     text-align:left;\">\n",
    "            Write\n",
    "        </th>\n",
    "        <th style = \"background-color:yellow;\n",
    "                     color:black;\n",
    "                     border:2px solid red;\n",
    "                     text-align:left;\">\n",
    "            Execute\n",
    "        </th>\n",
    "        <th style = \"background-color:yellow;\n",
    "                     color:black;\n",
    "                     border:2px solid red;\n",
    "                     text-align:left;\">\n",
    "            Read\n",
    "        </th>\n",
    "        <th style = \"background-color:yellow;\n",
    "                     color:black;\n",
    "                     border:2px solid red;\n",
    "                     text-align:left;\">\n",
    "            Write\n",
    "        </th>\n",
    "        <th style = \"background-color:yellow;\n",
    "                     color:black;\n",
    "                     border:2px solid red;\n",
    "                     text-align:left;\">\n",
    "            Execute\n",
    "        </th>\n",
    "        <th style = \"background-color:yellow;\n",
    "                     color:black;\n",
    "                     border:2px solid red;\n",
    "                     text-align:left;\">\n",
    "            Read\n",
    "        </th>\n",
    "        <th style = \"background-color:yellow;\n",
    "                     color:black;\n",
    "                     border:2px solid red;\n",
    "                     text-align:left;\">\n",
    "            Write\n",
    "        </th>\n",
    "        <th style = \"background-color:yellow;\n",
    "                     color:black;\n",
    "                     border:2px solid red;\n",
    "                     text-align:left;\">\n",
    "            Execute\n",
    "        </th>\n",
    "    </tr>\n",
    "    <tr>\n",
    "        <td style = \"height:40px;\n",
    "                     background-color:yellow;\n",
    "                     color:black;\n",
    "                     border:2px solid red;\n",
    "                     text-align:center;\">d or null</td>\n",
    "        <td style = \"height:40px; \n",
    "                     background-color:yellow;\n",
    "                     color:black;\n",
    "                     border:2px solid red;\n",
    "                     text-align:center;\">r</td>\n",
    "        <td style = \"height:40px;\n",
    "                     background-color:yellow;\n",
    "                     color:black;\n",
    "                     border:2px solid red;\n",
    "                     text-align:center;\">w</td>\n",
    "        <td style = \"height:40px;\n",
    "                     background-color:yellow;\n",
    "                     color:black;\n",
    "                     border:2px solid red;\n",
    "                     text-align:center;\">x</td>\n",
    "        <td style = \"height:40px;\n",
    "                     background-color:yellow;\n",
    "                     color:black;\n",
    "                     border:2px solid red;\n",
    "                     text-align:center;\">r</td> \n",
    "        <td style = \"height:40px;\n",
    "                     background-color:yellow;\n",
    "                     color:black;\n",
    "                     border:2px solid red;\n",
    "                     text-align:center;\">w</td>\n",
    "        <td style = \"height:40px;\n",
    "                     background-color:yellow;\n",
    "                     color:black;\n",
    "                     border:2px solid red;\n",
    "                     text-align:center;\">x</td>\n",
    "        <td style = \"height:40px;\n",
    "                     background-color:yellow;\n",
    "                     color:black;\n",
    "                     border:2px solid red;\n",
    "                     text-align:center;\">r</td>\n",
    "        <td style = \"height:40px;\n",
    "                     background-color:yellow;\n",
    "                     color:black;\n",
    "                     border:2px solid red;\n",
    "                     text-align:center;\">w</td>\n",
    "        <td style = \"height:40px;\n",
    "                     background-color:yellow;\n",
    "                     color:black;\n",
    "                     border:2px solid red;\n",
    "                     text-align:center;\">x</td>\n",
    "    </tr>\n",
    "</table>\n",
    "</body>\n",
    "</html>\n"
   ]
  },
  {
   "cell_type": "code",
   "execution_count": null,
   "metadata": {},
   "outputs": [],
   "source": []
  }
 ],
 "metadata": {
  "kernelspec": {
   "display_name": "Python 3",
   "language": "python",
   "name": "python3"
  },
  "language_info": {
   "codemirror_mode": {
    "name": "ipython",
    "version": 3
   },
   "file_extension": ".py",
   "mimetype": "text/x-python",
   "name": "python",
   "nbconvert_exporter": "python",
   "pygments_lexer": "ipython3",
   "version": "3.7.0"
  }
 },
 "nbformat": 4,
 "nbformat_minor": 2
}
